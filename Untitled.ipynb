{
 "cells": [
  {
   "cell_type": "code",
   "execution_count": 1,
   "id": "88e9de7a-9487-4623-ba94-f42d818ee291",
   "metadata": {},
   "outputs": [],
   "source": [
    "import cv2 #opencv\n",
    "import os #helps with file paths\n",
    "import time #break between each of the images we collect \n",
    "import uuid #name our image files"
   ]
  },
  {
   "cell_type": "code",
   "execution_count": 2,
   "id": "6cf3ddbf-3a24-4021-ae8f-4b97a5429d0b",
   "metadata": {},
   "outputs": [],
   "source": [
    "IMAGE_PATH = \"utility/images\""
   ]
  },
  {
   "cell_type": "code",
   "execution_count": 3,
   "id": "a78fd29e-cfef-4d39-ab22-acd92b46ba12",
   "metadata": {},
   "outputs": [],
   "source": [
    "# array of all the labels and a variable to hold the number of images we are going to use.\n",
    "labels = [\"hello\", \"thankyou\", \"yes\", \"no\", \"ilu\"]\n",
    "number_images = 10 #8 for training 2 for testing"
   ]
  },
  {
   "cell_type": "code",
   "execution_count": null,
   "id": "3f798e6a-ddfe-4710-9cab-f1048773af49",
   "metadata": {},
   "outputs": [],
   "source": [
    "for label in labels:\n",
    "    !mkdir {\"utility\\images\" + label}\n",
    "    cap = cv2.VideoCapture(0) #to capture images and initialise webcam the 0 here represents the device number the web camera presents.\n",
    "    print(\"Collecting images for {}\".format(label))\n",
    "    time.sleep(5)\n",
    "    for imgno in range(number_images):\n",
    "        ret, frame = cap.read()\n",
    "        imagename = os.path.join(IMAGES_PATH, label, label+\".\"+\"{}.jpg\".format(str(uuid.uuid1())))\n",
    "        "
   ]
  }
 ],
 "metadata": {
  "kernelspec": {
   "display_name": "Python 3 (ipykernel)",
   "language": "python",
   "name": "python3"
  },
  "language_info": {
   "codemirror_mode": {
    "name": "ipython",
    "version": 3
   },
   "file_extension": ".py",
   "mimetype": "text/x-python",
   "name": "python",
   "nbconvert_exporter": "python",
   "pygments_lexer": "ipython3",
   "version": "3.12.0"
  }
 },
 "nbformat": 4,
 "nbformat_minor": 5
}
